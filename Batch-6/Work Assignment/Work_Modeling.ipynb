{
 "cells": [
  {
   "cell_type": "markdown",
   "metadata": {},
   "source": [
    "# Modeling"
   ]
  },
  {
   "cell_type": "code",
   "execution_count": 1,
   "metadata": {},
   "outputs": [],
   "source": [
    "import pandas as pd\n",
    "import numpy as np\n",
    "import matplotlib\n",
    "%matplotlib inline\n",
    "import warnings\n",
    "warnings.filterwarnings('ignore')"
   ]
  },
  {
   "cell_type": "code",
   "execution_count": 2,
   "metadata": {},
   "outputs": [],
   "source": [
    "train = pd.read_csv(\"train_ready_for_model.csv\")"
   ]
  },
  {
   "cell_type": "code",
   "execution_count": 3,
   "metadata": {},
   "outputs": [],
   "source": [
    "test = pd.read_csv(\"test_ready_for_model.csv\")"
   ]
  },
  {
   "cell_type": "code",
   "execution_count": 4,
   "metadata": {},
   "outputs": [],
   "source": [
    "result = test[[\"User_ID\"]]"
   ]
  },
  {
   "cell_type": "code",
   "execution_count": 5,
   "metadata": {},
   "outputs": [
    {
     "data": {
      "text/plain": [
       "Index([u'User_ID', u'Browser_Chrome', u'Browser_Edge', u'Browser_Firefox',\n",
       "       u'Browser_IE', u'Browser_Opera', u'Browser_Safari', u'Device_Desktop',\n",
       "       u'Device_Mobile', u'Device_Tablet', u'Is_Response', u'sentiment'],\n",
       "      dtype='object')"
      ]
     },
     "execution_count": 5,
     "metadata": {},
     "output_type": "execute_result"
    }
   ],
   "source": [
    "train.columns"
   ]
  },
  {
   "cell_type": "code",
   "execution_count": 6,
   "metadata": {},
   "outputs": [],
   "source": [
    "result[\"Is_Response\"] = train.Is_Response"
   ]
  },
  {
   "cell_type": "code",
   "execution_count": 7,
   "metadata": {},
   "outputs": [],
   "source": [
    "result.to_csv(\"res1.csv\",index=False)"
   ]
  },
  {
   "cell_type": "code",
   "execution_count": 40,
   "metadata": {},
   "outputs": [],
   "source": [
    "final=pd.read_csv('res1.csv')\n",
    "final.Is_Response = final.Is_Response.astype(str)\n",
    "final.Is_Response=final.Is_Response.apply( lambda x: x.replace('1.0','happy'))\n",
    "final.Is_Response=final.Is_Response.apply( lambda x: x.replace('0.0','not happy'))\n",
    "#final.head()\n",
    "final=final[[\"User_ID\",\"Is_Response\"]]\n",
    "final.to_csv(\"res1.csv\",index=False)"
   ]
  },
  {
   "cell_type": "code",
   "execution_count": 9,
   "metadata": {},
   "outputs": [],
   "source": [
    "target = 'Is_Response'\n",
    "IDcol = ['User_ID']\n",
    "from sklearn import model_selection, metrics\n",
    "from sklearn.metrics import classification_report\n",
    "\n",
    "def modelfit(alg, dtrain, dtest, predictors, target, IDcol, filename):\n",
    "    #Fit the algorithm on the data\n",
    "    alg.fit(dtrain[predictors], dtrain[target])\n",
    "    \n",
    "    #Predict training set:\n",
    "    dtrain_predictions = alg.predict(dtrain[predictors])\n",
    "    kfold = model_selection.KFold(n_splits=10, random_state=7)\n",
    "    \n",
    "    #CrossValidation:\n",
    "    cv_train_score = model_selection.cross_val_score(alg, dtrain[predictors], dtrain[target], cv=kfold, scoring='accuracy')\n",
    "    print(\"10-fold cross validation average accuracy: %.3f\" % (cv_train_score.mean()))\n",
    "    #cv_train_score = np.sqrt(np.abs(cv_train_score))\n",
    "    \n",
    "    #Print model report:\n",
    "    print(\"\\nModel Report\")\n",
    "    print(classification_report(dtrain[target].values, dtrain_predictions))\n",
    "    #print(\"Train CV score : \", cv_train_score)\n",
    "    #print(\"Train RMSE : %.4g\" % np.sqrt(metrics.mean_squared_error(dtrain[target].values, dtrain_predictions)))\n",
    "        \n",
    "    #Predict on testing data:\n",
    "    dtest[target] = alg.predict(dtest[predictors])\n",
    "    \n",
    "    #Export submission file:\n",
    "    IDcol.append(target)\n",
    "    submission = pd.DataFrame({ x: dtest[x] for x in IDcol})\n",
    "    submission.to_csv(filename, index=False)"
   ]
  },
  {
   "cell_type": "code",
   "execution_count": 10,
   "metadata": {},
   "outputs": [
    {
     "name": "stdout",
     "output_type": "stream",
     "text": [
      "('predictors : ', ['Browser_Chrome', 'Browser_Edge', 'Browser_Firefox', 'Browser_IE', 'Browser_Opera', 'Browser_Safari', 'Device_Desktop', 'Device_Mobile', 'Device_Tablet', 'sentiment'])\n",
      "10-fold cross validation average accuracy: 0.741\n",
      "\n",
      "Model Report\n",
      "             precision    recall  f1-score   support\n",
      "\n",
      "        0.0       0.64      0.43      0.52     12411\n",
      "        1.0       0.77      0.88      0.82     26521\n",
      "\n",
      "avg / total       0.73      0.74      0.73     38932\n",
      "\n"
     ]
    }
   ],
   "source": [
    "from sklearn.linear_model import LogisticRegression\n",
    "predictors = [x for x in train.columns if x not in [target]+IDcol]\n",
    "print(\"predictors : \",predictors)\n",
    "# print predictors\n",
    "alg1 = LogisticRegression()\n",
    "modelfit(alg1, train, test, predictors, target, IDcol, 'res2.csv')\n",
    "##coef1 = pd.Series(alg1.coef_, predictors).sort_values()\n",
    "##coef1.plot(kind='bar', title='Model Coefficients')"
   ]
  },
  {
   "cell_type": "code",
   "execution_count": 39,
   "metadata": {},
   "outputs": [],
   "source": [
    "final=pd.read_csv('res2.csv')\n",
    "final.Is_Response = final.Is_Response.astype(str)\n",
    "final.Is_Response=final.Is_Response.apply( lambda x: x.replace('1.0','happy'))\n",
    "final.Is_Response=final.Is_Response.apply( lambda x: x.replace('0.0','not happy'))\n",
    "#final.head()\n",
    "final=final[[\"User_ID\",\"Is_Response\"]]\n",
    "final.to_csv(\"res2.csv\",index=False)"
   ]
  },
  {
   "cell_type": "code",
   "execution_count": 12,
   "metadata": {},
   "outputs": [
    {
     "name": "stdout",
     "output_type": "stream",
     "text": [
      "10-fold cross validation average accuracy: 0.663\n",
      "\n",
      "Model Report\n",
      "             precision    recall  f1-score   support\n",
      "\n",
      "        0.0       0.75      0.75      0.75     12411\n",
      "        1.0       0.88      0.89      0.88     26521\n",
      "\n",
      "avg / total       0.84      0.84      0.84     38932\n",
      "\n",
      "10-fold cross validation average accuracy: 0.622\n",
      "\n",
      "Model Report\n",
      "             precision    recall  f1-score   support\n",
      "\n",
      "        0.0       0.58      0.89      0.70     12411\n",
      "        1.0       0.93      0.70      0.80     26521\n",
      "\n",
      "avg / total       0.82      0.76      0.77     38932\n",
      "\n",
      "10-fold cross validation average accuracy: 0.694\n",
      "\n",
      "Model Report\n",
      "             precision    recall  f1-score   support\n",
      "\n",
      "        0.0       0.70      0.60      0.65     12411\n",
      "        1.0       0.83      0.88      0.85     26521\n",
      "\n",
      "avg / total       0.78      0.79      0.79     38932\n",
      "\n",
      "10-fold cross validation average accuracy: 0.680\n",
      "\n",
      "Model Report\n",
      "             precision    recall  f1-score   support\n",
      "\n",
      "        0.0       0.61      0.72      0.66     12411\n",
      "        1.0       0.86      0.78      0.82     26521\n",
      "\n",
      "avg / total       0.78      0.76      0.77     38932\n",
      "\n"
     ]
    }
   ],
   "source": [
    "from sklearn.neighbors import KNeighborsClassifier\n",
    "predictors = [x for x in train.columns if x not in [target]+IDcol]\n",
    "# print predictors\n",
    "for i in range(1,5):\n",
    "    alg1 = KNeighborsClassifier(n_neighbors=i)\n",
    "    modelfit(alg1, train, test, predictors, target, IDcol, 'res3.csv')\n",
    "#coef1 = pd.Series(alg1.coef_, predictors).sort_values()\n",
    "#coef1.plot(kind='bar', title='Model Coefficients')"
   ]
  },
  {
   "cell_type": "code",
   "execution_count": 38,
   "metadata": {},
   "outputs": [],
   "source": [
    "final=pd.read_csv('res3.csv')\n",
    "final.Is_Response = final.Is_Response.astype(str)\n",
    "final.Is_Response=final.Is_Response.apply( lambda x: x.replace('1.0','happy'))\n",
    "final.Is_Response=final.Is_Response.apply( lambda x: x.replace('0.0','not happy'))\n",
    "#final.head()\n",
    "final=final[[\"User_ID\",\"Is_Response\"]]\n",
    "final.to_csv(\"res3.csv\",index=False)"
   ]
  },
  {
   "cell_type": "code",
   "execution_count": 14,
   "metadata": {},
   "outputs": [
    {
     "name": "stdout",
     "output_type": "stream",
     "text": [
      "10-fold cross validation average accuracy: 0.740\n",
      "\n",
      "Model Report\n",
      "             precision    recall  f1-score   support\n",
      "\n",
      "        0.0       0.66      0.42      0.51     12411\n",
      "        1.0       0.77      0.90      0.83     26521\n",
      "\n",
      "avg / total       0.73      0.75      0.73     38932\n",
      "\n"
     ]
    }
   ],
   "source": [
    "from sklearn.ensemble import RandomForestClassifier\n",
    "predictors = [x for x in train.columns if x not in [target]+IDcol]\n",
    "# print predictors\n",
    "alg1 = RandomForestClassifier(n_estimators=260,max_depth=15, min_samples_leaf=100)\n",
    "modelfit(alg1, train, test, predictors, target, IDcol, 'res4.csv')\n",
    "#coef1 = pd.Series(alg1.coef_, predictors).sort_values()\n",
    "#coef1.plot(kind='bar', title='Model Coefficients')"
   ]
  },
  {
   "cell_type": "code",
   "execution_count": 37,
   "metadata": {},
   "outputs": [],
   "source": [
    "final=pd.read_csv('res4.csv')\n",
    "final.Is_Response = final.Is_Response.astype(str)\n",
    "final.Is_Response=final.Is_Response.apply( lambda x: x.replace('1.0','happy'))\n",
    "final.Is_Response=final.Is_Response.apply( lambda x: x.replace('0.0','not happy'))\n",
    "#final.head()\n",
    "final=final[[\"User_ID\",\"Is_Response\"]]\n",
    "final.to_csv(\"res4.csv\",index=False)"
   ]
  },
  {
   "cell_type": "code",
   "execution_count": 16,
   "metadata": {},
   "outputs": [
    {
     "name": "stdout",
     "output_type": "stream",
     "text": [
      "10-fold cross validation average accuracy: 0.743\n",
      "\n",
      "Model Report\n",
      "             precision    recall  f1-score   support\n",
      "\n",
      "        0.0       0.64      0.45      0.53     12411\n",
      "        1.0       0.77      0.88      0.83     26521\n",
      "\n",
      "avg / total       0.73      0.74      0.73     38932\n",
      "\n"
     ]
    }
   ],
   "source": [
    "from sklearn.ensemble import AdaBoostClassifier\n",
    "predictors = [x for x in train.columns if x not in [target]+IDcol]\n",
    "# print predictors\n",
    "alg1 = AdaBoostClassifier(n_estimators=260)\n",
    "modelfit(alg1, train, test, predictors, target, IDcol, 'res5.csv')\n",
    "#coef1 = pd.Series(alg1.coef_, predictors).sort_values()\n",
    "#coef1.plot(kind='bar', title='Model Coefficients')"
   ]
  },
  {
   "cell_type": "code",
   "execution_count": 36,
   "metadata": {},
   "outputs": [],
   "source": [
    "final=pd.read_csv('res5.csv')\n",
    "final.Is_Response = final.Is_Response.astype(str)\n",
    "final.Is_Response=final.Is_Response.apply( lambda x: x.replace('1.0','happy'))\n",
    "final.Is_Response=final.Is_Response.apply( lambda x: x.replace('0.0','not happy'))\n",
    "#final.head()\n",
    "final=final[[\"User_ID\",\"Is_Response\"]]\n",
    "final.to_csv(\"res5.csv\",index=False)"
   ]
  },
  {
   "cell_type": "code",
   "execution_count": 18,
   "metadata": {},
   "outputs": [
    {
     "name": "stdout",
     "output_type": "stream",
     "text": [
      "10-fold cross validation average accuracy: 0.740\n",
      "\n",
      "Model Report\n",
      "             precision    recall  f1-score   support\n",
      "\n",
      "        0.0       0.65      0.46      0.54     12411\n",
      "        1.0       0.78      0.88      0.83     26521\n",
      "\n",
      "avg / total       0.74      0.75      0.74     38932\n",
      "\n"
     ]
    }
   ],
   "source": [
    "from sklearn.tree import DecisionTreeClassifier\n",
    "predictors = [x for x in train.columns if x not in [target]+IDcol]\n",
    "# print predictors\n",
    "alg1 = DecisionTreeClassifier(max_depth=15, min_samples_leaf=100)\n",
    "modelfit(alg1, train, test, predictors, target, IDcol, 'res6.csv')\n",
    "#coef1 = pd.Series(alg1.coef_, predictors).sort_values()\n",
    "#coef1.plot(kind='bar', title='Model Coefficients')"
   ]
  },
  {
   "cell_type": "code",
   "execution_count": 35,
   "metadata": {},
   "outputs": [],
   "source": [
    "final=pd.read_csv('res6.csv')\n",
    "final.Is_Response = final.Is_Response.astype(str)\n",
    "final.Is_Response=final.Is_Response.apply( lambda x: x.replace('1.0','happy'))\n",
    "final.Is_Response=final.Is_Response.apply( lambda x: x.replace('0.0','not happy'))\n",
    "#final.head()\n",
    "final=final[[\"User_ID\",\"Is_Response\"]]\n",
    "final.to_csv(\"res6.csv\",index=False)"
   ]
  },
  {
   "cell_type": "code",
   "execution_count": 20,
   "metadata": {},
   "outputs": [
    {
     "name": "stderr",
     "output_type": "stream",
     "text": [
      "C:\\Users\\user\\Anaconda2\\lib\\site-packages\\sklearn\\cross_validation.py:41: DeprecationWarning: This module was deprecated in version 0.18 in favor of the model_selection module into which all the refactored classes and functions are moved. Also note that the interface of the new CV iterators are different from that of this module. This module will be removed in 0.20.\n",
      "  \"This module will be removed in 0.20.\", DeprecationWarning)\n"
     ]
    },
    {
     "name": "stdout",
     "output_type": "stream",
     "text": [
      "10-fold cross validation average accuracy: 0.737\n",
      "\n",
      "Model Report\n",
      "             precision    recall  f1-score   support\n",
      "\n",
      "        0.0       0.72      0.52      0.60     12411\n",
      "        1.0       0.80      0.90      0.85     26521\n",
      "\n",
      "avg / total       0.77      0.78      0.77     38932\n",
      "\n"
     ]
    }
   ],
   "source": [
    "import xgboost as xgb\n",
    "predictors = [x for x in train.columns if x not in [target]+IDcol]\n",
    "##predictors = coef5.index[:7]\n",
    "alg5 = xgb.XGBClassifier(max_depth=10, n_estimators=260, learning_rate=0.05)\n",
    "modelfit(alg5, train, test, predictors, target, IDcol, 'res7.csv')\n",
    "##coef5 = pd.Series(alg5.feature_importances_, predictors).sort_values(ascending=False)\n",
    "##coef5.plot(kind='bar', title='Feature Importances')"
   ]
  },
  {
   "cell_type": "code",
   "execution_count": 34,
   "metadata": {},
   "outputs": [],
   "source": [
    "final=pd.read_csv('res7.csv')\n",
    "final.Is_Response = final.Is_Response.astype(str)\n",
    "final.Is_Response=final.Is_Response.apply( lambda x: x.replace('1.0','happy'))\n",
    "final.Is_Response=final.Is_Response.apply( lambda x: x.replace('0.0','not happy'))\n",
    "final=final[[\"User_ID\",\"Is_Response\"]]\n",
    "final.to_csv(\"res7.csv\",index=False)"
   ]
  },
  {
   "cell_type": "code",
   "execution_count": null,
   "metadata": {},
   "outputs": [],
   "source": []
  }
 ],
 "metadata": {
  "kernelspec": {
   "display_name": "Python 2",
   "language": "python",
   "name": "python2"
  },
  "language_info": {
   "codemirror_mode": {
    "name": "ipython",
    "version": 2
   },
   "file_extension": ".py",
   "mimetype": "text/x-python",
   "name": "python",
   "nbconvert_exporter": "python",
   "pygments_lexer": "ipython2",
   "version": "2.7.15"
  }
 },
 "nbformat": 4,
 "nbformat_minor": 2
}
